{
 "cells": [
  {
   "cell_type": "code",
   "execution_count": 96,
   "id": "213e7cd7-df88-42da-9045-e06c1d52225c",
   "metadata": {},
   "outputs": [],
   "source": [
    "import pandas as pd\n",
    "import numpy as np\n",
    "import json\n",
    "import urllib.request\n",
    "from datetime import datetime"
   ]
  },
  {
   "cell_type": "raw",
   "id": "9f9e5ac0-1f25-4ddb-a2eb-0b617925b20c",
   "metadata": {},
   "source": [
    "Question 1"
   ]
  },
  {
   "cell_type": "code",
   "execution_count": 106,
   "id": "ec084b3d-7ec2-4a2a-b8ee-d767082b3513",
   "metadata": {},
   "outputs": [],
   "source": [
    "url = \"https://raw.githubusercontent.com/Papagoat/brain-assessment/main/restaurant_data.json\"\n",
    "with urllib.request.urlopen(url) as response:\n",
    "    data = json.load(response)"
   ]
  },
  {
   "cell_type": "code",
   "execution_count": 98,
   "id": "02df8cf0-fb9d-4af8-b40e-003556969c76",
   "metadata": {},
   "outputs": [],
   "source": [
    "#Converting the country code mapping to a dictionary\n",
    "country_codes_df = pd.read_excel(\"Country-Code.xlsx\")\n",
    "country_codes_dict = country_codes_df.set_index('Country Code').to_dict()['Country']"
   ]
  },
  {
   "cell_type": "code",
   "execution_count": 113,
   "id": "1a99eee2-b64e-4871-acf2-4bef012b2e9c",
   "metadata": {},
   "outputs": [],
   "source": [
    "#\n",
    "def extract_restaurant_data(restaurant):\n",
    "    res_data = restaurant['restaurant']\n",
    "    return {\n",
    "        'Restaurant Id': res_data['R']['res_id'],\n",
    "        'Restaurant Name': res_data['name'],\n",
    "        'Country Code': res_data['location']['country_id'],\n",
    "        'City': res_data['location']['city'],\n",
    "        'User Rating Votes': int(res_data['user_rating']['votes']),\n",
    "        'User Aggregate Rating': float(res_data['user_rating']['aggregate_rating']),\n",
    "        'Cuisines': res_data['cuisines']\n",
    "    }\n",
    "\n",
    "restaurants_list = [extract_restaurant_data(restaurant) for page in data for restaurant in page['restaurants']]"
   ]
  },
  {
   "cell_type": "code",
   "execution_count": 114,
   "id": "cf4d338c-4515-4b4d-b01c-8da0774a49c4",
   "metadata": {},
   "outputs": [],
   "source": [
    "for restaurant in restaurants_list:\n",
    "    # If the country code is not found, fill it up with 'NA' values\n",
    "    restaurant['Country Code'] = country_codes_dict.get(restaurant['Country Code'], 'NA')\n",
    "    \n",
    "restaurants_df = pd.DataFrame(restaurants_list)\n",
    "restaurants_df.rename(columns={'Country Code': 'Country'}, inplace=True)\n",
    "restaurants_df.to_csv('restaurants.csv', index=False)"
   ]
  },
  {
   "cell_type": "raw",
   "id": "51dbbd79-1b3c-4f44-9e38-d7b8f8c05417",
   "metadata": {},
   "source": [
    "Question 2"
   ]
  },
  {
   "cell_type": "code",
   "execution_count": 115,
   "id": "dbfc033b-6b25-4095-8f31-2b8e85e71120",
   "metadata": {},
   "outputs": [],
   "source": [
    "april_start = datetime(2019, 4, 1)\n",
    "april_end = datetime(2019, 4, 30)\n",
    "\n",
    "def is_event_in_april(event):\n",
    "    start_date = datetime.strptime(event['start_date'], '%Y-%m-%d')\n",
    "    end_date = datetime.strptime(event['end_date'], '%Y-%m-%d')\n",
    "    return start_date <= april_end and end_date >= april_start\n",
    "\n",
    "restaurant_events = []\n",
    "for page in data:\n",
    "    for restaurant in page['restaurants']:\n",
    "        res_data = restaurant['restaurant']\n",
    "        for z_event in res_data.get('zomato_events', []):\n",
    "            event = z_event['event']\n",
    "            if is_event_in_april(event):\n",
    "                photo_url = event['photos'][0]['photo']['url'] if event.get('photos') else None\n",
    "                restaurant_events.append({\n",
    "                    'Event Id': event['event_id'],\n",
    "                    'Restaurant Id': res_data['id'],\n",
    "                    'Restaurant Name': res_data['name'],\n",
    "                    'Photo URL': photo_url,\n",
    "                    'Event Title': event['title'],\n",
    "                    'Event Start Date': event['start_date'],\n",
    "                    'Event End Date': event['end_date']\n",
    "                })\n",
    "restaurant_events = pd.DataFrame(restaurant_events)\n",
    "restaurant_events.fillna(\"NA\", inplace=True)\n",
    "restaurant_events.to_csv('restaurant_events.csv', index=False)"
   ]
  },
  {
   "cell_type": "raw",
   "id": "b0662278-b974-45d2-85cc-4d151c887e7b",
   "metadata": {},
   "source": [
    "Question 3"
   ]
  },
  {
   "cell_type": "code",
   "execution_count": 102,
   "id": "948c7d54-810f-4ff8-b327-33e1191738bf",
   "metadata": {},
   "outputs": [
    {
     "name": "stdout",
     "output_type": "stream",
     "text": [
      "{'Excellent': 4.5, 'Very Good': 4.0, 'Good': 3.5, 'Average': 2.5, 'Poor': 2.2}\n"
     ]
    }
   ],
   "source": [
    "rating_thresholds = {\n",
    "    'Excellent': float('inf'),\n",
    "    'Very Good': float('inf'),\n",
    "    'Good': float('inf'),\n",
    "    'Average': float('inf'),\n",
    "    'Poor': float('inf')\n",
    "}\n",
    "\n",
    "for page in data:\n",
    "    for restaurant in page['restaurants']:\n",
    "        rating_text = restaurant['restaurant']['user_rating']['rating_text']\n",
    "        aggregate_rating = float(restaurant['restaurant']['user_rating']['aggregate_rating'])\n",
    "        if rating_text in rating_thresholds:\n",
    "            rating_thresholds[rating_text] = min(aggregate_rating, rating_thresholds[rating_text])\n",
    "print(rating_thresholds)"
   ]
  },
  {
   "cell_type": "code",
   "execution_count": null,
   "id": "d5454255-d621-43cd-8755-cfd9211a890f",
   "metadata": {},
   "outputs": [],
   "source": []
  }
 ],
 "metadata": {
  "kernelspec": {
   "display_name": "Python 3 (ipykernel)",
   "language": "python",
   "name": "python3"
  },
  "language_info": {
   "codemirror_mode": {
    "name": "ipython",
    "version": 3
   },
   "file_extension": ".py",
   "mimetype": "text/x-python",
   "name": "python",
   "nbconvert_exporter": "python",
   "pygments_lexer": "ipython3",
   "version": "3.10.9"
  }
 },
 "nbformat": 4,
 "nbformat_minor": 5
}
